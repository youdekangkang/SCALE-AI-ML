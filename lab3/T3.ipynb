{
 "cells": [
  {
   "cell_type": "markdown",
   "metadata": {},
   "source": [
    "### Q1\n",
    "Write a python script to open the “lena.png” file using opencv.\n",
    "- Display the opened image in a new window named “Display Lena”\n",
    "- Save the image to a new file named “lena_resaved.png”"
   ]
  },
  {
   "cell_type": "code",
   "execution_count": 1,
   "metadata": {},
   "outputs": [
    {
     "data": {
      "text/plain": [
       "True"
      ]
     },
     "execution_count": 1,
     "metadata": {},
     "output_type": "execute_result"
    }
   ],
   "source": [
    "import cv2\n",
    "import numpy as np\n",
    "\n",
    "img = cv2.imread('lena.png', 0)\n",
    "\n",
    "cv2.imshow('Display Lena', img)\n",
    "cv2.waitKey(0) \n",
    "cv2.destroyAllWindows()\n",
    "\n",
    "cv2.imwrite('lena_resaved.png', img)"
   ]
  },
  {
   "cell_type": "markdown",
   "metadata": {},
   "source": [
    "### Q2. Use PIL and Matplotlib libraries for Q2.\n",
    "Use “lena.png” to perform following operations and save the images:\n",
    "- Crop a section from the image whose vertices are (100,100), (100,400), (400,100), (400,400). (hint: convert the cv2 image into PIL Image)\n",
    "- Rotate the cropped image by 45 degrees counter-clockwise.\n",
    "- Perform histogram equalization on lena.png. (hint: use ImageOps.equalize from PIL)\n",
    "- Use matplotlib to plot the histogram figure for both original image and processed image. (hint: use histogram() function in PIL)\n",
    "- Perform Max Filtering, Min Filtering, and Median Filter on lena.png. (hint: PIL.ImageFilter)\n",
    "- Perform Gaussian Blur with sigma equal to 3 and 5. (hint: PIL.ImageFilter)"
   ]
  },
  {
   "cell_type": "code",
   "execution_count": 2,
   "metadata": {},
   "outputs": [],
   "source": [
    "\"\"\"\n",
    "Crop a section from the image whose vertices\n",
    "are (100,100), (100,400), (400,100), (400,400). \n",
    "(hint: convert the cv2 image into PIL Image)\n",
    "\"\"\"\n",
    "from PIL import Image, ImageOps\n",
    "\n",
    "img_pil = Image.fromarray(img)\n",
    "img_cropped = img_pil.crop((100, 100, 300, 300))\n",
    "img_cropped.show()\n",
    "# img_cropped = img_cropped.save(\"lena_cropped.png\")"
   ]
  },
  {
   "cell_type": "code",
   "execution_count": 3,
   "metadata": {},
   "outputs": [],
   "source": [
    "\"\"\"\n",
    "Rotate the cropped image by 45 degrees counter-clockwise.\n",
    "\"\"\"\n",
    "img_rotated = img_cropped.rotate(45)\n",
    "img_rotated.show()"
   ]
  },
  {
   "cell_type": "code",
   "execution_count": 4,
   "metadata": {},
   "outputs": [],
   "source": [
    "\"\"\"\n",
    "Perform histogram equalization on lena.png. (hint: use ImageOps.equalize from PIL)\n",
    "\"\"\"\n",
    "img_hist = ImageOps.equalize(img_pil)\n",
    "img_hist.show()"
   ]
  },
  {
   "cell_type": "code",
   "execution_count": 5,
   "metadata": {},
   "outputs": [
    {
     "data": {
      "image/png": "[encoded data removed]",
      "text/plain": [
       "<Figure size 432x288 with 1 Axes>"
      ]
     },
     "metadata": {
      "needs_background": "light"
     },
     "output_type": "display_data"
    }
   ],
   "source": [
    "\"\"\"\n",
    "Use matplotlib to plot the histogram figure for both \n",
    "original image and processed image. (hint: use histogram() function in PIL)\n",
    "\"\"\"\n",
    "%matplotlib inline\n",
    "import matplotlib.pyplot as plt\n",
    "\n",
    "plt.hist(img.ravel(), 256, (0, 256))\n",
    "plt.show()"
   ]
  },
  {
   "cell_type": "code",
   "execution_count": 6,
   "metadata": {},
   "outputs": [
    {
     "data": {
      "image/png": "[encoded data removed]",
      "text/plain": [
       "<Figure size 432x288 with 1 Axes>"
      ]
     },
     "metadata": {
      "needs_background": "light"
     },
     "output_type": "display_data"
    }
   ],
   "source": [
    "img_hist_np = np.array(img_hist)\n",
    "plt.clf()\n",
    "plt.hist(img_hist_np.ravel(), 256, (0,256))\n",
    "plt.show()"
   ]
  },
  {
   "cell_type": "code",
   "execution_count": 7,
   "metadata": {},
   "outputs": [],
   "source": [
    "\"\"\"\n",
    "Perform Max Filtering, Min Filtering, and Median Filter on lena.png. (hint: PIL.ImageFilter)\n",
    "\"\"\"\n",
    "from PIL import ImageFilter\n",
    "\n",
    "img_med_filter = img_pil.filter(ImageFilter.MedianFilter(size=7))\n",
    "img_med_filter.show()"
   ]
  },
  {
   "cell_type": "code",
   "execution_count": 8,
   "metadata": {},
   "outputs": [],
   "source": [
    "img_max_filter = img_pil.filter(ImageFilter.MaxFilter(size=7))\n",
    "img_max_filter.show()"
   ]
  },
  {
   "cell_type": "code",
   "execution_count": 9,
   "metadata": {},
   "outputs": [],
   "source": [
    "img_min_filter = img_pil.filter(ImageFilter.MinFilter(size=7))\n",
    "img_min_filter.show()"
   ]
  },
  {
   "cell_type": "code",
   "execution_count": 10,
   "metadata": {},
   "outputs": [],
   "source": [
    "\"\"\"\n",
    "Perform Gaussian Blur with sigma equal to 3 and 5. (hint: PIL.ImageFilter)\n",
    "\"\"\"\n",
    "img_gaussian_blur_3 = img_pil.filter(ImageFilter.GaussianBlur(radius=3))\n",
    "img_gaussian_blur_3.show()\n",
    "\n",
    "img_gaussian_blur_5 = img_pil.filter(ImageFilter.GaussianBlur(radius=5))\n",
    "img_gaussian_blur_5.show()"
   ]
  },
  {
   "cell_type": "markdown",
   "metadata": {},
   "source": [
    "### Q3 \n",
    "Colour space conversion. Use Python OpenCV functions to perform following operations on “bee.png” and save the images at each step.\n",
    "- Read the image.\n",
    "- Convert the image to HSV color space.\n",
    "- Perform histogram equalization on V channel by cv2.equalizeHist().\n",
    "- Convert the result image to BGR color space.\n",
    "- Show the image by cv2.imshow() and save the image."
   ]
  },
  {
   "cell_type": "code",
   "execution_count": 11,
   "metadata": {},
   "outputs": [
    {
     "data": {
      "image/png": "[encoded data removed]",
      "text/plain": [
       "<Figure size 432x288 with 1 Axes>"
      ]
     },
     "metadata": {
      "needs_background": "light"
     },
     "output_type": "display_data"
    }
   ],
   "source": [
    "\"\"\"\n",
    "Read the image.\n",
    "Convert the image to HSV color space.\n",
    "\"\"\"\n",
    "img_b = cv2.imread('bee.png')\n",
    "img_b_hsv = cv2.cvtColor(img_b, cv2.COLOR_BGR2HSV)\n",
    "# cv2.imshow('bee hsv', img_b_hsv)\n",
    "# cv2.waitKey(0) \n",
    "# cv2.destroyAllWindows()\n",
    "\n",
    "V_channel = np.array(img_b_hsv[:, :, 2])\n",
    "plt.clf()\n",
    "plt.hist(V_channel.ravel(), 250, (0,250))\n",
    "plt.show()"
   ]
  },
  {
   "cell_type": "code",
   "execution_count": 12,
   "metadata": {},
   "outputs": [
    {
     "ename": "NameError",
     "evalue": "name 'img_b_hsv_equ' is not defined",
     "output_type": "error",
     "traceback": [
      "\u001b[1;31m---------------------------------------------------------------------------\u001b[0m",
      "\u001b[1;31mNameError\u001b[0m                                 Traceback (most recent call last)",
      "Input \u001b[1;32mIn [12]\u001b[0m, in \u001b[0;36m<cell line: 6>\u001b[1;34m()\u001b[0m\n\u001b[0;32m      1\u001b[0m \u001b[38;5;124;03m\"\"\"\u001b[39;00m\n\u001b[0;32m      2\u001b[0m \u001b[38;5;124;03mPerform histogram equalization on V channel by cv2.equalizeHist().\u001b[39;00m\n\u001b[0;32m      3\u001b[0m \u001b[38;5;124;03m\"\"\"\u001b[39;00m\n\u001b[0;32m      4\u001b[0m V_channel_equ \u001b[38;5;241m=\u001b[39m cv2\u001b[38;5;241m.\u001b[39mequalizeHist(V_channel)\n\u001b[1;32m----> 6\u001b[0m t2 \u001b[38;5;241m=\u001b[39m np\u001b[38;5;241m.\u001b[39marray(\u001b[43mimg_b_hsv_equ\u001b[49m)\n\u001b[0;32m      7\u001b[0m plt\u001b[38;5;241m.\u001b[39mclf()\n\u001b[0;32m      8\u001b[0m plt\u001b[38;5;241m.\u001b[39mhist(t2\u001b[38;5;241m.\u001b[39mravel(), \u001b[38;5;241m256\u001b[39m, (\u001b[38;5;241m0\u001b[39m,\u001b[38;5;241m256\u001b[39m))\n",
      "\u001b[1;31mNameError\u001b[0m: name 'img_b_hsv_equ' is not defined"
     ]
    }
   ],
   "source": [
    "\"\"\"\n",
    "Perform histogram equalization on V channel by cv2.equalizeHist().\n",
    "\"\"\"\n",
    "V_channel_equ = cv2.equalizeHist(V_channel)\n",
    "\n",
    "t2 = np.array(img_b_hsv_equ)\n",
    "plt.clf()\n",
    "plt.hist(t2.ravel(), 256, (0,256))\n",
    "plt.show()"
   ]
  },
  {
   "cell_type": "code",
   "execution_count": 13,
   "metadata": {},
   "outputs": [],
   "source": [
    "\"\"\"\n",
    "Convert the result image to BGR color space\n",
    "Show the image by cv2.imshow() and save the image.\n",
    "\"\"\"\n",
    "img_b_hsv[:, :, 2] = V_channel_equ\n",
    "img_b_bgr = cv2.cvtColor(img_b_hsv, cv2.COLOR_HSV2BGR)\n",
    "cv2.imwrite('bee_histogram_equalized.png', img_b_bgr)\n",
    "cv2.imshow('bee after histogram equ.', img_b_bgr)\n",
    "cv2.waitKey(0) \n",
    "cv2.destroyAllWindows()\n",
    "\n",
    "# cv2.imshow('bee original', img_b)\n",
    "# cv2.waitKey(0) \n",
    "# cv2.destroyAllWindows()"
   ]
  },
  {
   "cell_type": "code",
   "execution_count": null,
   "metadata": {},
   "outputs": [],
   "source": []
  }
 ],
 "metadata": {
  "kernelspec": {
   "display_name": "Python 3 (ipykernel)",
   "language": "python",
   "name": "python3"
  },
  "language_info": {
   "codemirror_mode": {
    "name": "ipython",
    "version": 3
   },
   "file_extension": ".py",
   "mimetype": "text/x-python",
   "name": "python",
   "nbconvert_exporter": "python",
   "pygments_lexer": "ipython3",
   "version": "3.8.13"
  },
  "toc": {
   "base_numbering": 1,
   "nav_menu": {},
   "number_sections": true,
   "sideBar": true,
   "skip_h1_title": false,
   "title_cell": "Table of Contents",
   "title_sidebar": "Contents",
   "toc_cell": false,
   "toc_position": {},
   "toc_section_display": true,
   "toc_window_display": false
  }
 },
 "nbformat": 4,
 "nbformat_minor": 2
}
